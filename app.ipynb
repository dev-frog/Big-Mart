{
 "cells": [
  {
   "cell_type": "code",
   "execution_count": null,
   "id": "7cdd9dd3",
   "metadata": {},
   "outputs": [
    {
     "name": "stdout",
     "output_type": "stream",
     "text": [
      " * Serving Flask app '__main__' (lazy loading)\n",
      " * Environment: production\n",
      "\u001b[31m   WARNING: This is a development server. Do not use it in a production deployment.\u001b[0m\n",
      "\u001b[2m   Use a production WSGI server instead.\u001b[0m\n",
      " * Debug mode: off\n"
     ]
    },
    {
     "name": "stderr",
     "output_type": "stream",
     "text": [
      " * Running on http://127.0.0.1:5000/ (Press CTRL+C to quit)\n",
      "127.0.0.1 - - [23/Mar/2022 23:48:08] \"GET / HTTP/1.1\" 200 -\n",
      "127.0.0.1 - - [23/Mar/2022 23:48:08] \"GET /favicon.ico HTTP/1.1\" 404 -\n",
      "127.0.0.1 - - [23/Mar/2022 23:48:19] \"POST /predict HTTP/1.1\" 400 -\n"
     ]
    }
   ],
   "source": [
    "import numpy as np\n",
    "from flask import Flask, request, render_template\n",
    "import pickle\n",
    "\n",
    "app = Flask(__name__)\n",
    "model = pickle.load(open('pickle.pkl', 'rb'))\n",
    "\n",
    "@app.route('/')\n",
    "def home():\n",
    "    return render_template('home.html')\n",
    "   \n",
    "\n",
    "@app.route('/predict', methods=['POST'])\n",
    "def predict():\n",
    "    if request.method == 'POST':\n",
    "        \n",
    "        Item_Weight=float(request.form[\"Item_Weight\"])\n",
    "        Item_Fat_Content=int(request.form[\"Item_Fat_Content\"])\n",
    "        Item_Visibility=float(request.form[\"Item_Visibility\"])\n",
    "        Item_Type=int(request.form[\"Item_Type\"])\n",
    "        Item_MRP=float(request.form[\"Item_MRP\"])\n",
    "        Outlet_Establishment_Year=int(request.form[\"Outlet_Establishment_Year\"])\n",
    "        Outlet_Size=int(request.form[\"Outlet_Size\"])\n",
    "        Outlet_Location_Type=int(request.form[\"Outlet_Location_Type\"])\n",
    "        Outlet_Type=int(request.form['Outlet_Type'])\n",
    "        \n",
    "        \n",
    "        data = np.array([[Item_Weight,Item_Fat_Content,Item_Visibility,Item_Type,Item_MRP,Outlet_Establishment_Year,Outlet_Size,Outlet_Location_Type,Outlet_Type]])\n",
    "        my_prediction = model.predict(data)\n",
    "        \n",
    "        return render_template('home.html', prediction=my_prediction)\n",
    "        \n",
    "        \n",
    "if __name__ == \"__main__\":\n",
    "    app.run()"
   ]
  },
  {
   "cell_type": "code",
   "execution_count": null,
   "id": "34ae4fa3",
   "metadata": {},
   "outputs": [],
   "source": []
  },
  {
   "cell_type": "code",
   "execution_count": null,
   "id": "44b9fd05",
   "metadata": {},
   "outputs": [],
   "source": []
  }
 ],
 "metadata": {
  "kernelspec": {
   "display_name": "Python 3 (ipykernel)",
   "language": "python",
   "name": "python3"
  },
  "language_info": {
   "codemirror_mode": {
    "name": "ipython",
    "version": 3
   },
   "file_extension": ".py",
   "mimetype": "text/x-python",
   "name": "python",
   "nbconvert_exporter": "python",
   "pygments_lexer": "ipython3",
   "version": "3.9.6"
  }
 },
 "nbformat": 4,
 "nbformat_minor": 5
}
